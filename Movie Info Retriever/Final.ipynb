{
 "cells": [
  {
   "cell_type": "code",
   "execution_count": 15,
   "metadata": {},
   "outputs": [],
   "source": [
    "import pandas as pd\n",
    "df = pd.read_csv('tmdb_5000_movies.csv')"
   ]
  },
  {
   "cell_type": "code",
   "execution_count": 16,
   "metadata": {},
   "outputs": [
    {
     "data": {
      "text/plain": [
       "0    [{\"id\": 28, \"name\": \"Action\"}, {\"id\": 12, \"nam...\n",
       "1    [{\"id\": 12, \"name\": \"Adventure\"}, {\"id\": 14, \"...\n",
       "2    [{\"id\": 28, \"name\": \"Action\"}, {\"id\": 12, \"nam...\n",
       "3    [{\"id\": 28, \"name\": \"Action\"}, {\"id\": 80, \"nam...\n",
       "4    [{\"id\": 28, \"name\": \"Action\"}, {\"id\": 12, \"nam...\n",
       "Name: genres, dtype: object"
      ]
     },
     "execution_count": 16,
     "metadata": {},
     "output_type": "execute_result"
    }
   ],
   "source": [
    "df['genres'].head()"
   ]
  },
  {
   "cell_type": "code",
   "execution_count": 17,
   "metadata": {},
   "outputs": [],
   "source": [
    "import pandas as pd\n",
    "df_md = pd.read_csv('your_modified_file.csv')"
   ]
  },
  {
   "cell_type": "code",
   "execution_count": 18,
   "metadata": {},
   "outputs": [
    {
     "data": {
      "text/plain": [
       "0    [28, 12, 14, 878]\n",
       "1         [12, 14, 28]\n",
       "2         [28, 12, 80]\n",
       "3     [28, 80, 18, 53]\n",
       "4        [28, 12, 878]\n",
       "Name: genres, dtype: object"
      ]
     },
     "execution_count": 18,
     "metadata": {},
     "output_type": "execute_result"
    }
   ],
   "source": [
    "df_md['genres'].head()"
   ]
  },
  {
   "cell_type": "code",
   "execution_count": 19,
   "metadata": {},
   "outputs": [
    {
     "data": {
      "text/plain": [
       "genre_id\n",
       "12       6.156962\n",
       "14       6.096698\n",
       "16       6.341453\n",
       "18       6.388594\n",
       "27       5.626590\n",
       "28       5.989515\n",
       "35       5.945587\n",
       "36       6.719797\n",
       "37       6.178049\n",
       "53       6.010989\n",
       "80       6.274138\n",
       "99       6.238182\n",
       "878      6.005607\n",
       "9648     6.183908\n",
       "10402    6.355676\n",
       "10749    6.207718\n",
       "10751    6.029630\n",
       "10752    6.713889\n",
       "10769    6.352941\n",
       "10770    5.662500\n",
       "Name: vote_average, dtype: float64"
      ]
     },
     "execution_count": 19,
     "metadata": {},
     "output_type": "execute_result"
    }
   ],
   "source": [
    "import pandas as pd\n",
    "from ast import literal_eval\n",
    "\n",
    "\n",
    "# It seems like the genres are already in a list format. If not, convert them:\n",
    "df_md['genres'] = df_md['genres'].apply(lambda x: literal_eval(x) if isinstance(x, str) else x)\n",
    "\n",
    "# Explode the genre_ids to have each genre ID in its own row\n",
    "expanded_data = df_md.explode('genres')\n",
    "\n",
    "# Rename 'genres' to 'genre_ids' if the names are causing confusion\n",
    "expanded_data = expanded_data.rename(columns={'genres': 'genre_id'})\n",
    "\n",
    "# Now, calculate the average rating for each genre\n",
    "avg_ratings_per_genre = expanded_data.groupby('genre_id')['vote_average'].mean()\n",
    "\n",
    "avg_ratings_per_genre\n"
   ]
  },
  {
   "cell_type": "code",
   "execution_count": 20,
   "metadata": {},
   "outputs": [],
   "source": [
    "genre_mapping = {\n",
    "    28: \"Action\",\n",
    "    12: \"Adventure\",\n",
    "    16: \"Animation\",\n",
    "    35: \"Comedy\",\n",
    "    80: \"Crime\",\n",
    "    99: \"Documentary\",\n",
    "    18: \"Drama\",\n",
    "    10751: \"Family\",\n",
    "    14: \"Fantasy\",\n",
    "    36: \"History\",\n",
    "    27: \"Horror\",\n",
    "    10402: \"Music\",\n",
    "    9648: \"Mystery\",\n",
    "    10749: \"Romance\",\n",
    "    878: \"Science Fiction\",\n",
    "    10770: \"TV Movie\",\n",
    "    53: \"Thriller\",\n",
    "    10752: \"War\",\n",
    "    37: \"Western\",\n",
    "    10769: \"Foreign\"\n",
    "}\n"
   ]
  },
  {
   "cell_type": "code",
   "execution_count": 21,
   "metadata": {},
   "outputs": [
    {
     "name": "stderr",
     "output_type": "stream",
     "text": [
      "C:\\Users\\Srinivas\\AppData\\Roaming\\Python\\Python37\\site-packages\\ipykernel_launcher.py:28: DeprecationWarning: ANTIALIAS is deprecated and will be removed in Pillow 10 (2023-07-01). Use Resampling.LANCZOS instead.\n"
     ]
    }
   ],
   "source": [
    "import tkinter as tk\n",
    "from tkinter import ttk, messagebox, simpledialog, Label\n",
    "import requests\n",
    "from PIL import Image, ImageTk\n",
    "\n",
    "# API Key and Configuration\n",
    "api_key = '28d241c9e0e99ba4cbb66b84c1f4f0d8'  # Replace with your actual TMDB API key\n",
    "image_base_url = 'https://image.tmdb.org/t/p/w500'  # Base URL for fetching images\n",
    "\n",
    "def fetch_movie_details(api_key, query):\n",
    "    url = f\"https://api.themoviedb.org/3/search/movie?api_key={api_key}&query={query}\"\n",
    "    response = requests.get(url)\n",
    "    if response.status_code == 200:\n",
    "        data = response.json()\n",
    "        if data['results']:\n",
    "            return data['results'][0]  # Return the first result\n",
    "        else:\n",
    "            return None\n",
    "    else:\n",
    "        return None\n",
    "\n",
    "def fetch_image(url, max_size=(300, 450)):\n",
    "    \"\"\"Fetch and resize an image to fit within the GUI.\"\"\"\n",
    "    try:\n",
    "        response = requests.get(url)\n",
    "        response.raise_for_status()  # Ensure the request was successful\n",
    "        image = Image.open(requests.get(url, stream=True).raw)\n",
    "        image.thumbnail(max_size, Image.ANTIALIAS)\n",
    "        return ImageTk.PhotoImage(image)\n",
    "    except Exception as e:\n",
    "        print(f\"Failed to load image: {e}\")\n",
    "        return None\n",
    "\n",
    "def classify_movie(genre_ids, movie_rating):\n",
    "    genre_ratings = [avg_ratings_per_genre.get(genre_id) for genre_id in genre_ids if genre_id in avg_ratings_per_genre]\n",
    "    if not genre_ratings:\n",
    "        return \"No data to classify\"\n",
    "\n",
    "    average_genre_rating = sum(genre_ratings) / len(genre_ratings)\n",
    "    threshold = 0.5\n",
    "    if movie_rating > average_genre_rating + threshold:\n",
    "        return \"Good\"\n",
    "    elif movie_rating < average_genre_rating - threshold:\n",
    "        return \"Bad\"\n",
    "    else:\n",
    "        return \"Average\"\n",
    "\n",
    "def show_genre_average():\n",
    "    selected_genre = genre_combobox.get()\n",
    "    if not selected_genre:\n",
    "        messagebox.showinfo(\"Error\", \"Please select a genre first.\")\n",
    "        return\n",
    "    genre_id = int(selected_genre.split()[0])  # Extracting the genre ID\n",
    "    avg_rating = avg_ratings_per_genre.get(genre_id, \"No data\")\n",
    "    messagebox.showinfo(\"Average Rating\", f\"The average rating for {genre_mapping[genre_id]} is: {avg_rating:.2f}\")\n",
    "\n",
    "def search_movie():\n",
    "    # Reset the GUI components\n",
    "    genre_combobox.set('')\n",
    "    genre_combobox['values'] = []\n",
    "    label_details.config(text=\"No movie selected.\")\n",
    "    image_label.config(image='')  # Clear any previous image\n",
    "    image_label.image = None  # Drop the reference to prevent memory leaks\n",
    "\n",
    "    # Ask user for the movie name\n",
    "    movie_name = simpledialog.askstring(\"Movie Search\", \"Enter the name of the movie:\")\n",
    "    if not movie_name:\n",
    "        return  # If no movie name is given, just return\n",
    "\n",
    "    # Fetch movie details from TMDB API\n",
    "    movie_details = fetch_movie_details(api_key, movie_name)\n",
    "    if movie_details:\n",
    "        # Handle the genres for the fetched movie\n",
    "        genres = movie_details['genre_ids']\n",
    "        genre_combobox['values'] = [f\"{genre_id} {genre_mapping.get(genre_id, 'Unknown')}\" for genre_id in genres]\n",
    "        if genres:  # Set the first genre as default selected in combobox\n",
    "            genre_combobox.set(f\"{genres[0]} {genre_mapping.get(genres[0], 'Unknown')}\")\n",
    "\n",
    "        # Update movie details\n",
    "        movie_rating = movie_details['vote_average']\n",
    "        classification = classify_movie(genres, movie_rating)\n",
    "        details_text = f\"{movie_details['title']} ({movie_details['release_date']})\\n\"\n",
    "        details_text += f\"Rating: {movie_rating}/10 from {movie_details['vote_count']} votes\\n\"\n",
    "        details_text += f\"Classification: {classification}\"\n",
    "        label_details.config(text=details_text)\n",
    "\n",
    "        # Fetch and display the poster if available\n",
    "        if movie_details.get('poster_path'):\n",
    "            image_url = image_base_url + movie_details['poster_path']\n",
    "            photo = fetch_image(image_url)\n",
    "            if photo:\n",
    "                image_label.config(image=photo)\n",
    "                image_label.image = photo  # Keep a reference\n",
    "    else:\n",
    "        messagebox.showinfo(\"Search Result\", \"Movie not found or failed to fetch details.\")\n",
    "\n",
    "root = tk.Tk()\n",
    "root.title(\"Movie Details and Genre Selection\")\n",
    "\n",
    "image_label = Label(root)  # Label for displaying the movie image\n",
    "image_label.pack(side=tk.TOP, fill=tk.BOTH, expand=True)\n",
    "\n",
    "label_details = tk.Label(root, text=\"No movie selected.\", justify=tk.LEFT)\n",
    "label_details.pack(side=tk.TOP, fill=tk.X)\n",
    "\n",
    "btn_search = tk.Button(root, text=\"Search Movie\", command=search_movie)\n",
    "btn_search.pack(side=tk.TOP, pady=10)\n",
    "\n",
    "genre_label = tk.Label(root, text=\"Select which type of genre you are interested in:\")\n",
    "genre_label.pack(side=tk.TOP, fill=tk.X)\n",
    "\n",
    "genre_combobox = ttk.Combobox(root, width = 50, state=\"readonly\")\n",
    "genre_combobox.pack(side=tk.TOP, fill=tk.X, padx=10, pady=10)\n",
    "\n",
    "btn_show_avg = tk.Button(root, text=\"Show Genre Average\", command=show_genre_average)\n",
    "btn_show_avg.pack(side=tk.TOP, pady=10)\n",
    "\n",
    "root.mainloop()\n"
   ]
  }
 ],
 "metadata": {
  "kernelspec": {
   "display_name": "Python 3",
   "language": "python",
   "name": "python3"
  },
  "language_info": {
   "codemirror_mode": {
    "name": "ipython",
    "version": 3
   },
   "file_extension": ".py",
   "mimetype": "text/x-python",
   "name": "python",
   "nbconvert_exporter": "python",
   "pygments_lexer": "ipython3",
   "version": "3.7.3"
  }
 },
 "nbformat": 4,
 "nbformat_minor": 2
}
